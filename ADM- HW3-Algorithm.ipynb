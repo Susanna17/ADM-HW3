{
 "cells": [
  {
   "cell_type": "markdown",
   "id": "e69535ea",
   "metadata": {},
   "source": [
    "## 7. Algorithmic Question\n",
    "\n",
    "### 1. Implement a code to solve the above mentioned problem\n"
   ]
  },
  {
   "cell_type": "code",
   "execution_count": 36,
   "id": "2401ff06",
   "metadata": {},
   "outputs": [],
   "source": [
    "# Produced the report\n",
    "def find_report(array, target, row_index, current_sum, elements):\n",
    "    if row_index == len(array):\n",
    "        if current_sum == target:\n",
    "            return elements\n",
    "        else:\n",
    "            return []\n",
    "    \n",
    "    for i in range(len(array[row_index])):\n",
    "        if current_sum + array[row_index][i] > target:\n",
    "            break\n",
    "        result = find_report(array, target, row_index + 1, current_sum + array[row_index][i], elements + [array[row_index][i]])\n",
    "        if len(result) == len(array):\n",
    "            return result\n",
    "    return []\n",
    "        \n",
    "\n",
    "# Checking if report can be generated\n",
    "def isReportPossible(days, sumHours, limits):\n",
    "    \"\"\"\n",
    "    Function to check if report can be generated and produce it.\n",
    "\n",
    "    Args:\n",
    "        dats: the number of days employee worked.\n",
    "        sumHours: total number of hours employee worked.\n",
    "        limits: array of tuples contains two integer indicating min and max hours employee can work.\n",
    "\n",
    "    Print:\n",
    "        No - if report can not be generated\n",
    "        Yes- if report can be generated + the possible report\n",
    "    \"\"\"\n",
    "    sum_max = 0\n",
    "    sum_min = 0\n",
    "    for j in limits:\n",
    "        sum_max += j[1]\n",
    "        sum_min += j[0]\n",
    "    if sumHours > sum_max or sumHours < sum_min:\n",
    "        print('No')    \n",
    "    else:\n",
    "        print('Yes')\n",
    "        x = []\n",
    "        if sumHours == sum_max:\n",
    "            for i in limits:\n",
    "                x.append(i[1])\n",
    "            print(x)\n",
    "        elif sumHours == sum_min:\n",
    "            for i in limits:\n",
    "                x.append(i[0])\n",
    "            print(x)   \n",
    "        else:\n",
    "            for i in limits:\n",
    "                interval = list(range(i[0],i[1]+1))\n",
    "                x.append(interval)\n",
    "            print(find_report(x, sumHours, 0, 0, []))      "
   ]
  },
  {
   "cell_type": "code",
   "execution_count": 37,
   "id": "53706df1",
   "metadata": {},
   "outputs": [
    {
     "name": "stdout",
     "output_type": "stream",
     "text": [
      "2 5\n",
      "0 1\n",
      "3 5\n",
      "Yes\n",
      "[0, 5]\n"
     ]
    }
   ],
   "source": [
    "# Reciving the input from the user\n",
    "limits =[]\n",
    "days, sumHours = map(int, input().split())\n",
    "for i in range(days):\n",
    "    x, y = map(int, input().split())\n",
    "    limit = (x,y)\n",
    "    limits.append(limit)\n",
    "isReportPossible(days, sumHours, limits)"
   ]
  },
  {
   "cell_type": "markdown",
   "id": "820ec944",
   "metadata": {},
   "source": [
    "### 2. What is the time complexity?\n",
    "\n",
    "In the first step of our algorithm we call the 'isReportPossible' function, which has a runnin time O(n)- where n is the lenth of limitation (the input).   \n",
    "This is because we go over all limits the user gave us and sum their start and end points.  \n",
    "If 'isReportPossible' print 'No'- we are done.  \n",
    "If 'isReportPossible' print 'Yes'- we call the 'find_report' function.    \n",
    "\n",
    "Before calling the 'find_report' function, we check if the target sum is the maximal or minimal- which is easy to find and takes O(n).  \n",
    "If not we define our \"new\" array where row_i contain all the values in the interval limit_i.  \n",
    "For example if limit_i = (2,4) then row_i = [2,3,4].  \n",
    "Note that the maximal length of an interval is 24, since there are only 24 hours a day.  \n",
    "So 24 is an upper bound for our intervals length.  \n",
    "Therefore denote K- as the maximal interval length of our input.  \n",
    "We get this step is done by O(n * K) <= O(n * 24) = O(n).\n",
    "\n",
    "Note that our 'find_report' function is going over **all possible** reports and return the desired one.  \n",
    "This is done by going over all element of the array O(n * K) and call the function recursivly,  \n",
    "resulting in exponential time complexity - O(K^n)   \n",
    "\n",
    "Note that once the function finds a solution- it returns it.   \n",
    "Therefore in the average case,the function wont traverses through the entire array.\n",
    "\n",
    "Overall we get: O(n) + O(K^n) = O(K^n) "
   ]
  },
  {
   "cell_type": "markdown",
   "id": "7b0498c0",
   "metadata": {},
   "source": [
    "### 3. LLM Running Time Analysis\n",
    "The time complexity of the isReportPossible function is O(n) because the most time-consuming operation is iterating over the limits list.   \n",
    "However, the actual running time of the function can be affected by various factors such as the hardware you're running the code on, the load on the system, and other processes running on the system.\n",
    "\n",
    "The find_report function in your code is a recursive function that traverses through an array. It checks if the current sum is less than or equal to the target and if so, it calls itself with the next index and the updated current sum. The time complexity of such a function is typically O(n), where n is the number of elements in the array. This is because in the worst-case scenario, the function may need to traverse through all the elements in the array. However, the actual time complexity can be higher if the function keeps calling itself without finding a solution.\n",
    "\n",
    "\n",
    "**It is clear that the machine's answer is incorrect because it claims that the running time is linear while it is clear that the running time is exponential.**"
   ]
  },
  {
   "cell_type": "markdown",
   "id": "8ddc9d5f",
   "metadata": {},
   "source": [
    "### 4. Optimal Solution\n",
    "\n",
    "After seeing that the running time in the first algorithm we proposed is exponential,  \n",
    "we thought of another algorithm with a linear running time. \n",
    "Below is the code:"
   ]
  },
  {
   "cell_type": "code",
   "execution_count": null,
   "id": "c750bc74",
   "metadata": {},
   "outputs": [],
   "source": [
    "def find_report_min(limits, array, diff, elements):\n",
    "    for i, limit in enumerate(limits):\n",
    "        if diff != 0:\n",
    "            if array[i] >= diff:\n",
    "                elements.append(limit[0] + diff)\n",
    "                diff = 0\n",
    "            else:\n",
    "                elements.append(limit[0])\n",
    "        else:\n",
    "            elements.append(limit[0])\n",
    "    print(elements)\n",
    "\n",
    "def find_report_max(limits, array, diff, elements):\n",
    "    for i, limit in enumerate(limits):\n",
    "        if diff != 0:\n",
    "            if array[i] >= diff:\n",
    "                elements.append(limit[1] - diff)\n",
    "                diff = 0\n",
    "            else:\n",
    "                elements.append(limit[1])\n",
    "        else:\n",
    "            elements.append(limit[1])\n",
    "    print(elements)\n",
    "\n",
    "\n",
    "def isReportPossible_new(days, sumHours, limits):\n",
    "    \"\"\"\n",
    "    Function to check if report can be generated and produce it.\n",
    "\n",
    "    Args:\n",
    "        dats: the number of days employee worked.\n",
    "        sumHours: total number of hours employee worked.\n",
    "        limits: array of tuples contains two integer indicating min and max hours employee can work.\n",
    "\n",
    "    Print:\n",
    "        No - if report can not be generated\n",
    "        Yes- if report can be generated + the possible report\n",
    "    \"\"\"\n",
    "    sum_max = 0\n",
    "    sum_min = 0\n",
    "    for j in limits:\n",
    "        sum_max += j[1]\n",
    "        sum_min += j[0]\n",
    "    if sumHours > sum_max or sumHours < sum_min:\n",
    "        print('No')    \n",
    "    else:\n",
    "        print('Yes')\n",
    "        x = []\n",
    "        if sumHours == sum_max:\n",
    "            for i in limits:\n",
    "                x.append(i[1])\n",
    "            print(x)\n",
    "        elif sumHours == sum_min:\n",
    "            for i in limits:\n",
    "                x.append(i[0])\n",
    "            print(x) \n",
    "        else:\n",
    "            for i in limits:\n",
    "                x.append(i[1] - i[0])\n",
    "            if sumHours - sum_min < sum_max - sumHours:\n",
    "                diff = sumHours - sum_min\n",
    "                find_report_min(limits, x, diff, [])\n",
    "            else:\n",
    "                diff = sum_max - sumHours\n",
    "                find_report_max(limits, x, diff, [])\n",
    "                           "
   ]
  },
  {
   "cell_type": "code",
   "execution_count": 35,
   "id": "d38452e7",
   "metadata": {},
   "outputs": [
    {
     "name": "stdout",
     "output_type": "stream",
     "text": [
      "2 5\n",
      "0 1\n",
      "3 5\n",
      "Yes\n",
      "[0, 5]\n"
     ]
    }
   ],
   "source": [
    "# Reciving the input from the user\n",
    "limits =[]\n",
    "days, sumHours = map(int, input().split())\n",
    "for i in range(days):\n",
    "    x, y = map(int, input().split())\n",
    "    limit = (x,y)\n",
    "    limits.append(limit)\n",
    "isReportPossible_new(days, sumHours, limits)"
   ]
  },
  {
   "cell_type": "markdown",
   "id": "219b4894",
   "metadata": {},
   "source": [
    "- In this algorithm, we go through each element in limits array only once,  \n",
    "and therefore the running time is O(n)"
   ]
  }
 ],
 "metadata": {
  "kernelspec": {
   "display_name": "Python 3 (ipykernel)",
   "language": "python",
   "name": "python3"
  },
  "language_info": {
   "codemirror_mode": {
    "name": "ipython",
    "version": 3
   },
   "file_extension": ".py",
   "mimetype": "text/x-python",
   "name": "python",
   "nbconvert_exporter": "python",
   "pygments_lexer": "ipython3",
   "version": "3.9.7"
  }
 },
 "nbformat": 4,
 "nbformat_minor": 5
}
